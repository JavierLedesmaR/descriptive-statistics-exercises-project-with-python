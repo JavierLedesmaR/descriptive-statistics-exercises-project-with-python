{
 "cells": [
  {
   "cell_type": "markdown",
   "id": "6805e3f1",
   "metadata": {},
   "source": [
    "# Problemas de Estadística Descriptiva\n",
    "\n",
    "## Ejercicio 1 – ¿Qué tan largos son los títulos de las películas?\n",
    "\n",
    "En este ejercicio vas a aplicar técnicas de estadística descriptiva sobre un conjunto de datos real: una base con 1000 películas populares del sitio IMDb.\n",
    "\n",
    "A partir del título de cada película, vas a:\n",
    "- Calcular la longitud del título (en caracteres).\n",
    "- Obtener métricas estadísticas clave: media, mediana, moda, rango, varianza, desviación estándar, asimetría y curtosis.\n",
    "- Identificar los títulos más largos y más cortos.\n",
    "- Visualizar la distribución de estas longitudes con un histograma y una curva de densidad.\n"
   ]
  },
  {
   "cell_type": "code",
   "execution_count": 2,
   "id": "ca3d2c0a",
   "metadata": {},
   "outputs": [
    {
     "data": {
      "text/html": [
       "<div>\n",
       "<style scoped>\n",
       "    .dataframe tbody tr th:only-of-type {\n",
       "        vertical-align: middle;\n",
       "    }\n",
       "\n",
       "    .dataframe tbody tr th {\n",
       "        vertical-align: top;\n",
       "    }\n",
       "\n",
       "    .dataframe thead th {\n",
       "        text-align: right;\n",
       "    }\n",
       "</style>\n",
       "<table border=\"1\" class=\"dataframe\">\n",
       "  <thead>\n",
       "    <tr style=\"text-align: right;\">\n",
       "      <th></th>\n",
       "      <th>star_rating</th>\n",
       "      <th>title</th>\n",
       "      <th>content_rating</th>\n",
       "      <th>genre</th>\n",
       "      <th>duration</th>\n",
       "      <th>actors_list</th>\n",
       "    </tr>\n",
       "  </thead>\n",
       "  <tbody>\n",
       "    <tr>\n",
       "      <th>0</th>\n",
       "      <td>9.3</td>\n",
       "      <td>The Shawshank Redemption</td>\n",
       "      <td>R</td>\n",
       "      <td>Crime</td>\n",
       "      <td>142</td>\n",
       "      <td>[u'Tim Robbins', u'Morgan Freeman', u'Bob Gunt...</td>\n",
       "    </tr>\n",
       "    <tr>\n",
       "      <th>1</th>\n",
       "      <td>9.2</td>\n",
       "      <td>The Godfather</td>\n",
       "      <td>R</td>\n",
       "      <td>Crime</td>\n",
       "      <td>175</td>\n",
       "      <td>[u'Marlon Brando', u'Al Pacino', u'James Caan']</td>\n",
       "    </tr>\n",
       "    <tr>\n",
       "      <th>2</th>\n",
       "      <td>9.1</td>\n",
       "      <td>The Godfather: Part II</td>\n",
       "      <td>R</td>\n",
       "      <td>Crime</td>\n",
       "      <td>200</td>\n",
       "      <td>[u'Al Pacino', u'Robert De Niro', u'Robert Duv...</td>\n",
       "    </tr>\n",
       "    <tr>\n",
       "      <th>3</th>\n",
       "      <td>9.0</td>\n",
       "      <td>The Dark Knight</td>\n",
       "      <td>PG-13</td>\n",
       "      <td>Action</td>\n",
       "      <td>152</td>\n",
       "      <td>[u'Christian Bale', u'Heath Ledger', u'Aaron E...</td>\n",
       "    </tr>\n",
       "    <tr>\n",
       "      <th>4</th>\n",
       "      <td>8.9</td>\n",
       "      <td>Pulp Fiction</td>\n",
       "      <td>R</td>\n",
       "      <td>Crime</td>\n",
       "      <td>154</td>\n",
       "      <td>[u'John Travolta', u'Uma Thurman', u'Samuel L....</td>\n",
       "    </tr>\n",
       "    <tr>\n",
       "      <th>...</th>\n",
       "      <td>...</td>\n",
       "      <td>...</td>\n",
       "      <td>...</td>\n",
       "      <td>...</td>\n",
       "      <td>...</td>\n",
       "      <td>...</td>\n",
       "    </tr>\n",
       "    <tr>\n",
       "      <th>974</th>\n",
       "      <td>7.4</td>\n",
       "      <td>Tootsie</td>\n",
       "      <td>PG</td>\n",
       "      <td>Comedy</td>\n",
       "      <td>116</td>\n",
       "      <td>[u'Dustin Hoffman', u'Jessica Lange', u'Teri G...</td>\n",
       "    </tr>\n",
       "    <tr>\n",
       "      <th>975</th>\n",
       "      <td>7.4</td>\n",
       "      <td>Back to the Future Part III</td>\n",
       "      <td>PG</td>\n",
       "      <td>Adventure</td>\n",
       "      <td>118</td>\n",
       "      <td>[u'Michael J. Fox', u'Christopher Lloyd', u'Ma...</td>\n",
       "    </tr>\n",
       "    <tr>\n",
       "      <th>976</th>\n",
       "      <td>7.4</td>\n",
       "      <td>Master and Commander: The Far Side of the World</td>\n",
       "      <td>PG-13</td>\n",
       "      <td>Action</td>\n",
       "      <td>138</td>\n",
       "      <td>[u'Russell Crowe', u'Paul Bettany', u'Billy Bo...</td>\n",
       "    </tr>\n",
       "    <tr>\n",
       "      <th>977</th>\n",
       "      <td>7.4</td>\n",
       "      <td>Poltergeist</td>\n",
       "      <td>PG</td>\n",
       "      <td>Horror</td>\n",
       "      <td>114</td>\n",
       "      <td>[u'JoBeth Williams', u\"Heather O'Rourke\", u'Cr...</td>\n",
       "    </tr>\n",
       "    <tr>\n",
       "      <th>978</th>\n",
       "      <td>7.4</td>\n",
       "      <td>Wall Street</td>\n",
       "      <td>R</td>\n",
       "      <td>Crime</td>\n",
       "      <td>126</td>\n",
       "      <td>[u'Charlie Sheen', u'Michael Douglas', u'Tamar...</td>\n",
       "    </tr>\n",
       "  </tbody>\n",
       "</table>\n",
       "<p>979 rows × 6 columns</p>\n",
       "</div>"
      ],
      "text/plain": [
       "     star_rating                                            title  \\\n",
       "0            9.3                         The Shawshank Redemption   \n",
       "1            9.2                                    The Godfather   \n",
       "2            9.1                           The Godfather: Part II   \n",
       "3            9.0                                  The Dark Knight   \n",
       "4            8.9                                     Pulp Fiction   \n",
       "..           ...                                              ...   \n",
       "974          7.4                                          Tootsie   \n",
       "975          7.4                      Back to the Future Part III   \n",
       "976          7.4  Master and Commander: The Far Side of the World   \n",
       "977          7.4                                      Poltergeist   \n",
       "978          7.4                                      Wall Street   \n",
       "\n",
       "    content_rating      genre  duration  \\\n",
       "0                R      Crime       142   \n",
       "1                R      Crime       175   \n",
       "2                R      Crime       200   \n",
       "3            PG-13     Action       152   \n",
       "4                R      Crime       154   \n",
       "..             ...        ...       ...   \n",
       "974             PG     Comedy       116   \n",
       "975             PG  Adventure       118   \n",
       "976          PG-13     Action       138   \n",
       "977             PG     Horror       114   \n",
       "978              R      Crime       126   \n",
       "\n",
       "                                           actors_list  \n",
       "0    [u'Tim Robbins', u'Morgan Freeman', u'Bob Gunt...  \n",
       "1      [u'Marlon Brando', u'Al Pacino', u'James Caan']  \n",
       "2    [u'Al Pacino', u'Robert De Niro', u'Robert Duv...  \n",
       "3    [u'Christian Bale', u'Heath Ledger', u'Aaron E...  \n",
       "4    [u'John Travolta', u'Uma Thurman', u'Samuel L....  \n",
       "..                                                 ...  \n",
       "974  [u'Dustin Hoffman', u'Jessica Lange', u'Teri G...  \n",
       "975  [u'Michael J. Fox', u'Christopher Lloyd', u'Ma...  \n",
       "976  [u'Russell Crowe', u'Paul Bettany', u'Billy Bo...  \n",
       "977  [u'JoBeth Williams', u\"Heather O'Rourke\", u'Cr...  \n",
       "978  [u'Charlie Sheen', u'Michael Douglas', u'Tamar...  \n",
       "\n",
       "[979 rows x 6 columns]"
      ]
     },
     "execution_count": 2,
     "metadata": {},
     "output_type": "execute_result"
    }
   ],
   "source": [
    "# Importar librerias\n",
    "import pandas as pd\n",
    "import numpy as np\n",
    "import matplotlib.pyplot as plt\n",
    "from scipy.stats import skew, kurtosis, mode\n",
    "\n",
    "# Cargar dataset de IMDb\n",
    "url = \"../assets/imdb_1000.csv\"\n",
    "df = pd.read_csv(url)\n",
    "df"
   ]
  },
  {
   "cell_type": "code",
   "execution_count": 3,
   "id": "61d39304",
   "metadata": {},
   "outputs": [
    {
     "data": {
      "text/plain": [
       "0    24\n",
       "1    13\n",
       "2    22\n",
       "3    15\n",
       "4    12\n",
       "Name: title_length, dtype: int64"
      ]
     },
     "execution_count": 3,
     "metadata": {},
     "output_type": "execute_result"
    }
   ],
   "source": [
    "# Crea una nueva columna llamada 'title_length' con la longitud (número de caracteres) de cada título\n",
    "\n",
    "df[\"title_length\"] = df[\"title\"].apply(len)\n",
    "df[\"title_length\"].head()"
   ]
  },
  {
   "cell_type": "code",
   "execution_count": 4,
   "id": "cae9c2e7",
   "metadata": {},
   "outputs": [
    {
     "name": "stdout",
     "output_type": "stream",
     "text": [
      "La media es : 15.481103166496425\n",
      "La mediana es : 14.0\n",
      "La moda es : 12\n"
     ]
    }
   ],
   "source": [
    "# Calcula media, mediana y moda de la columna 'title_length'\n",
    "\n",
    "media = np.mean(df[\"title_length\"])\n",
    "mediana = np.median(df[\"title_length\"])\n",
    "moda = mode(df[\"title_length\"], keepdims=True).mode[0]\n",
    "print(f\"La media es : {media}\")\n",
    "print(f\"La mediana es : {mediana}\")\n",
    "print(f\"La moda es : {moda}\")"
   ]
  },
  {
   "cell_type": "code",
   "execution_count": 5,
   "id": "69664a9b",
   "metadata": {},
   "outputs": [
    {
     "name": "stdout",
     "output_type": "stream",
     "text": [
      "El rango es : 67\n",
      "La varianza es : 72.1067488840288\n",
      "La desviación estándar es : 8.491569282766807\n"
     ]
    }
   ],
   "source": [
    "# Calcula el rango, la varianza y la desviación estándar de 'title_length'\n",
    "\n",
    "rango = np.max(df[\"title_length\"]) - np.min(df[\"title_length\"])\n",
    "varianza = np.var(df[\"title_length\"], ddof=1)\n",
    "desv = np.std(df[\"title_length\"], ddof=1)\n",
    "print(f\"El rango es : {rango}\")\n",
    "print(f\"La varianza es : {varianza}\")\n",
    "print(f\"La desviación estándar es : {desv}\")"
   ]
  },
  {
   "cell_type": "code",
   "execution_count": 6,
   "id": "6b9a931c",
   "metadata": {},
   "outputs": [
    {
     "name": "stdout",
     "output_type": "stream",
     "text": [
      "La asimetría es : 1.5229143965677572\n",
      "La curtosis es : 3.7867237597626007\n"
     ]
    }
   ],
   "source": [
    "# Calcula asimetría y curtosis de la columna 'title_length'\n",
    "\n",
    "asimetría = skew(df[\"title_length\"])\n",
    "curtosis = kurtosis(df[\"title_length\"])\n",
    "print(f\"La asimetría es : {asimetría}\")\n",
    "print(f\"La curtosis es : {curtosis}\")"
   ]
  },
  {
   "cell_type": "code",
   "execution_count": 7,
   "id": "c0d09e68",
   "metadata": {},
   "outputs": [
    {
     "name": "stdout",
     "output_type": "stream",
     "text": [
      "Título más corto : M\n",
      "Título más largo: Dr. Strangelove or: How I Learned to Stop Worrying and Love the Bomb\n"
     ]
    }
   ],
   "source": [
    "# Imprime el título más corto y el título más largo según su longitud\n",
    "\n",
    "corto = df.loc[df[\"title_length\"].idxmin(), \"title\"]\n",
    "largo = df.loc[df[\"title_length\"].idxmax(), \"title\"]\n",
    "print(f\"Título más corto : {corto}\")\n",
    "print(f\"Título más largo: {largo}\")\n"
   ]
  },
  {
   "cell_type": "code",
   "execution_count": 15,
   "id": "e86a1ced",
   "metadata": {},
   "outputs": [
    {
     "data": {
      "image/png": "[encoded data removed]",
      "text/plain": [
       "<Figure size 1000x600 with 1 Axes>"
      ]
     },
     "metadata": {},
     "output_type": "display_data"
    }
   ],
   "source": [
    "# grafica tus resultados\n",
    "\n",
    "plt.figure(figsize=(10, 6))\n",
    "plt.hist(df[\"title_length\"])\n",
    "plt.title(\"Distribución de la longitud de los títulos\")\n",
    "plt.xlabel(\"Número de caracteres\")\n",
    "plt.ylabel(\"Frecuencia\")\n",
    "plt.show()"
   ]
  },
  {
   "cell_type": "markdown",
   "id": "eaf3ceb7",
   "metadata": {},
   "source": [
    "---\n",
    "\n",
    "## Ejercicio 2 – Cálculo manual de desviación estándar\n",
    "\n",
    "En este ejercicio vas a calcular manualmente la desviación estándar, seleccionando cinco títulos reales del dataset de películas que cargaste antes.\n"
   ]
  },
  {
   "cell_type": "code",
   "execution_count": 19,
   "id": "3005c0f9",
   "metadata": {},
   "outputs": [],
   "source": [
    "# Crea una lista con 5 valores reales de df['title_length'], por ejemplo: [10, 13, 14, 18, 22]\n",
    "\n",
    "lista = [10, 13, 14, 18, 22]"
   ]
  },
  {
   "cell_type": "code",
   "execution_count": 20,
   "id": "77dbee82",
   "metadata": {},
   "outputs": [
    {
     "data": {
      "text/plain": [
       "array([24, 13, 22, 15, 12, 30, 45, 16, 10, 49,  9, 46, 37, 31, 11, 21, 18,\n",
       "        5, 17, 28,  8, 19, 23,  6, 14, 26,  7, 68,  1, 27, 42, 32, 20, 34,\n",
       "        2,  3,  4, 33, 35, 25, 36, 44, 29, 54, 48, 40, 50, 58, 41, 38, 39,\n",
       "       47])"
      ]
     },
     "execution_count": 20,
     "metadata": {},
     "output_type": "execute_result"
    }
   ],
   "source": [
    "df['title_length'].unique()"
   ]
  },
  {
   "cell_type": "code",
   "execution_count": 21,
   "id": "d96b771f",
   "metadata": {},
   "outputs": [
    {
     "name": "stdout",
     "output_type": "stream",
     "text": [
      "La media es : 15.4\n"
     ]
    }
   ],
   "source": [
    "# Calcula la media de los 5 valores\n",
    "\n",
    "media_Lista = sum(lista) / len(lista)\n",
    "print(f\"La media es : {media_Lista}\")\n"
   ]
  },
  {
   "cell_type": "code",
   "execution_count": 22,
   "id": "346d0dc5",
   "metadata": {},
   "outputs": [
    {
     "name": "stdout",
     "output_type": "stream",
     "text": [
      "Suma de las diferencias al cuadrado : 87.19999999999999\n"
     ]
    }
   ],
   "source": [
    "# Calcula las diferencias al cuadrado con respecto a la media\n",
    "\n",
    "sumadifcuadrados = sum((x - media_Lista)**2 for x in lista)\n",
    "print(f\"Suma de las diferencias al cuadrado : {sumadifcuadrados}\")"
   ]
  },
  {
   "cell_type": "code",
   "execution_count": 24,
   "id": "f56517ff",
   "metadata": {},
   "outputs": [
    {
     "name": "stdout",
     "output_type": "stream",
     "text": [
      "La varianza es : 17.439999999999998\n",
      "la desviación estándar es : 4.176122603564219\n"
     ]
    }
   ],
   "source": [
    "# Calcula la varianza (promedio de las diferencias al cuadrado) y su raíz cuadrada para obtener la desviación\n",
    "\n",
    "varianza2 = sumadifcuadrados / len(lista)\n",
    "desv2 = varianza2 ** 0.5\n",
    "print(f\"La varianza es : {varianza2}\")\n",
    "print(f\"la desviación estándar es : {desv2}\")\n"
   ]
  }
 ],
 "metadata": {
  "kernelspec": {
   "display_name": "Python 3",
   "language": "python",
   "name": "python3"
  },
  "language_info": {
   "codemirror_mode": {
    "name": "ipython",
    "version": 3
   },
   "file_extension": ".py",
   "mimetype": "text/x-python",
   "name": "python",
   "nbconvert_exporter": "python",
   "pygments_lexer": "ipython3",
   "version": "3.11.4"
  }
 },
 "nbformat": 4,
 "nbformat_minor": 5
}
